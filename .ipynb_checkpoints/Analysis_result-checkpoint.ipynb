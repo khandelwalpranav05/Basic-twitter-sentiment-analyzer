{
 "cells": [
  {
   "cell_type": "code",
   "execution_count": 4,
   "metadata": {},
   "outputs": [],
   "source": [
    "from textblob import TextBlob\n",
    "import tweepy"
   ]
  },
  {
   "cell_type": "code",
   "execution_count": 5,
   "metadata": {},
   "outputs": [],
   "source": [
    "consumer_key = 'Sorry, you need have your consumer key. But I have shared the link of video in Read.me where you can learn how to get yours'\n",
    "consumer_secret = 'Sorry, you need have your consumer secret. But I have shared the link of video in Read.me where you can learn how to get yours'"
   ]
  },
  {
   "cell_type": "code",
   "execution_count": 6,
   "metadata": {},
   "outputs": [],
   "source": [
    "access_token = 'Sorry, you need have your access token. But I have shared the link of video in Read.me where you can learn how to get yours'\n",
    "access_token_secret = 'Sorry, you need have your caccess token secret. But I have shared the link of video in Read.me where you can learn how to get yours'"
   ]
  },
  {
   "cell_type": "code",
   "execution_count": 7,
   "metadata": {},
   "outputs": [],
   "source": [
    "auth = tweepy.OAuthHandler(consumer_key,consumer_secret)"
   ]
  },
  {
   "cell_type": "code",
   "execution_count": 8,
   "metadata": {},
   "outputs": [],
   "source": [
    "auth.set_access_token(access_token,access_token_secret)"
   ]
  },
  {
   "cell_type": "code",
   "execution_count": 9,
   "metadata": {},
   "outputs": [],
   "source": [
    "api = tweepy.API(auth)"
   ]
  },
  {
   "cell_type": "code",
   "execution_count": 28,
   "metadata": {},
   "outputs": [],
   "source": [
    "public_tweets = api.search('Artificial Intelligence')"
   ]
  },
  {
   "cell_type": "code",
   "execution_count": 29,
   "metadata": {},
   "outputs": [],
   "source": [
    "temp = public_tweets[0]"
   ]
  },
  {
   "cell_type": "code",
   "execution_count": 30,
   "metadata": {},
   "outputs": [
    {
     "data": {
      "text/plain": [
       "u'RT @dbrainio: In some areas of #AI, China is clearly overcoming the US. \"In 2017 China\\u2019s AI startup scene took nearly 50% of dollars going\\u2026'"
      ]
     },
     "execution_count": 30,
     "metadata": {},
     "output_type": "execute_result"
    }
   ],
   "source": [
    "temp.text"
   ]
  },
  {
   "cell_type": "code",
   "execution_count": 31,
   "metadata": {},
   "outputs": [],
   "source": [
    "#We are storing a limited number of tweet in this variable in order to run the program faster\n",
    "limited_tweets = public_tweets[:100]"
   ]
  },
  {
   "cell_type": "code",
   "execution_count": 32,
   "metadata": {},
   "outputs": [
    {
     "name": "stdout",
     "output_type": "stream",
     "text": [
      "RT @dbrainio: In some areas of #AI, China is clearly overcoming the US. \"In 2017 China’s AI startup scene took nearly 50% of dollars going…\n",
      "Sentiment(polarity=0.1, subjectivity=0.39166666666666666)\n",
      "\n",
      "\n",
      "SearchCap: Google Speed Update, schema reviews &amp; PPC artificial intelligence https://t.co/yYFdzJdCQs #socialmedia… https://t.co/dmM9wWp6ge\n",
      "Sentiment(polarity=-0.6, subjectivity=1.0)\n",
      "\n",
      "\n",
      "I have just joined ESENTH Network Airdrop Round2.@esenthnetwork is next generation Artificial Intelligence for DATA… https://t.co/ci4zRt4HvN\n",
      "Sentiment(polarity=-0.3, subjectivity=0.5)\n",
      "\n",
      "\n",
      "RT @dbrainio: In some areas of #AI, China is clearly overcoming the US. \"In 2017 China’s AI startup scene took nearly 50% of dollars going…\n",
      "Sentiment(polarity=0.1, subjectivity=0.39166666666666666)\n",
      "\n",
      "\n",
      "I have just joined ESENTH Network Airdrop Round2.@esenthnetwork is next generation Artificial Intelligence for DATA… https://t.co/FA9H9EEvAz\n",
      "Sentiment(polarity=-0.3, subjectivity=0.5)\n",
      "\n",
      "\n",
      "RT @dbrainio: In some areas of #AI, China is clearly overcoming the US. \"In 2017 China’s AI startup scene took nearly 50% of dollars going…\n",
      "Sentiment(polarity=0.1, subjectivity=0.39166666666666666)\n",
      "\n",
      "\n",
      "RT @dbrainio: In some areas of #AI, China is clearly overcoming the US. \"In 2017 China’s AI startup scene took nearly 50% of dollars going…\n",
      "Sentiment(polarity=0.1, subjectivity=0.39166666666666666)\n",
      "\n",
      "\n",
      "@tasnimeljamassi هههه حاضر :) ، باخد بريك فعلا، بس البريك عندي برمجة 😅، حاليا شغال علي AI بيألف قصص من الصور اللي ب… https://t.co/r5CwrEKqs4\n",
      "Sentiment(polarity=0.5, subjectivity=1.0)\n",
      "\n",
      "\n",
      "RT @dbrainio: In some areas of #AI, China is clearly overcoming the US. \"In 2017 China’s AI startup scene took nearly 50% of dollars going…\n",
      "Sentiment(polarity=0.1, subjectivity=0.39166666666666666)\n",
      "\n",
      "\n",
      "RT @RadiologyBiz: No, #AI will not replace radiologists https://t.co/fG5skoXMRs\n",
      "Sentiment(polarity=0.0, subjectivity=0.0)\n",
      "\n",
      "\n",
      "RT java: RT java: 4 Insights On Artificial Intelligence And The Future Of Work\n",
      "\n",
      "#AI #Jobs \n",
      "\n",
      "https://t.co/EpDlx8jNiy https://t.co/Tb8vjXfwMg\n",
      "Sentiment(polarity=-0.3, subjectivity=0.5625)\n",
      "\n",
      "\n",
      "RT @sancojofficial: Sancoj is using Blockchain and Zingo (Artificial Intelligence Agent) to better the lives of its users. Join our platfor…\n",
      "Sentiment(polarity=-0.04999999999999999, subjectivity=0.75)\n",
      "\n",
      "\n",
      "Five nominees announced for Hannover’s Hermes Award: Five nominees for the Hermes Award 2018 have now been selected… https://t.co/qyvIaC527e\n",
      "Sentiment(polarity=0.0, subjectivity=0.0)\n",
      "\n",
      "\n",
      "#AugmentedIntelligence: How to Combine #Human and #ArtificialIntelligence to Change #Behavior… https://t.co/pQNWbJbup5\n",
      "Sentiment(polarity=0.0, subjectivity=0.1)\n",
      "\n",
      "\n",
      "RT @dbrainio: In some areas of #AI, China is clearly overcoming the US. \"In 2017 China’s AI startup scene took nearly 50% of dollars going…\n",
      "Sentiment(polarity=0.1, subjectivity=0.39166666666666666)\n",
      "\n",
      "\n"
     ]
    }
   ],
   "source": [
    "for tweet in limited_tweets:\n",
    "    print(tweet.text)\n",
    "    print(TextBlob(tweet.text).sentiment)\n",
    "    print('\\n')"
   ]
  },
  {
   "cell_type": "code",
   "execution_count": null,
   "metadata": {},
   "outputs": [],
   "source": []
  }
 ],
 "metadata": {
  "kernelspec": {
   "display_name": "Python [default]",
   "language": "python",
   "name": "python2"
  },
  "language_info": {
   "codemirror_mode": {
    "name": "ipython",
    "version": 2
   },
   "file_extension": ".py",
   "mimetype": "text/x-python",
   "name": "python",
   "nbconvert_exporter": "python",
   "pygments_lexer": "ipython2",
   "version": "2.7.14"
  }
 },
 "nbformat": 4,
 "nbformat_minor": 2
}
